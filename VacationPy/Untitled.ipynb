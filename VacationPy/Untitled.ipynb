{
 "cells": [
  {
   "cell_type": "code",
   "execution_count": null,
   "metadata": {},
   "outputs": [],
   "source": [
    " target_coordinates = \"43.6187102, -116.2146068\"\n",
    "    \n",
    "    \n",
    "    response = requests.get(base_url, params=params).json()\n",
    "    \n",
    "    \n",
    "URL = ('https://maps.googleapis.com/maps/api/place/nearbysearch/json?location='\n",
    "       +coordinates+'&radius=16093&key='+ api_key +'&type='+business_type+'&pagetoken='+next_page)\n",
    "\n",
    " https://maps.googleapis.com/maps/api/place/nearbysearch/json?radius=5000\n",
    "        &location=target_coordinates&key=API_KEY_VAL&type=lodging\n",
    "    "
   ]
  }
 ],
 "metadata": {
  "kernelspec": {
   "display_name": "PythonData",
   "language": "python",
   "name": "pythondata"
  },
  "language_info": {
   "codemirror_mode": {
    "name": "ipython",
    "version": 3
   },
   "file_extension": ".py",
   "mimetype": "text/x-python",
   "name": "python",
   "nbconvert_exporter": "python",
   "pygments_lexer": "ipython3",
   "version": "3.6.10"
  }
 },
 "nbformat": 4,
 "nbformat_minor": 4
}
